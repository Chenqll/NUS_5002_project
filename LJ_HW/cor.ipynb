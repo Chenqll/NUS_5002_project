{
 "cells": [
  {
   "cell_type": "code",
   "execution_count": 3,
   "metadata": {},
   "outputs": [
    {
     "data": {
      "text/html": [
       "<div>\n",
       "<style scoped>\n",
       "    .dataframe tbody tr th:only-of-type {\n",
       "        vertical-align: middle;\n",
       "    }\n",
       "\n",
       "    .dataframe tbody tr th {\n",
       "        vertical-align: top;\n",
       "    }\n",
       "\n",
       "    .dataframe thead th {\n",
       "        text-align: right;\n",
       "    }\n",
       "</style>\n",
       "<table border=\"1\" class=\"dataframe\">\n",
       "  <thead>\n",
       "    <tr style=\"text-align: right;\">\n",
       "      <th></th>\n",
       "      <th>油条组号</th>\n",
       "      <th>弹性</th>\n",
       "      <th>硬度</th>\n",
       "      <th>回复性</th>\n",
       "    </tr>\n",
       "  </thead>\n",
       "  <tbody>\n",
       "    <tr>\n",
       "      <th>油条组号</th>\n",
       "      <td>1.000000</td>\n",
       "      <td>-0.455253</td>\n",
       "      <td>0.105903</td>\n",
       "      <td>-0.454733</td>\n",
       "    </tr>\n",
       "    <tr>\n",
       "      <th>弹性</th>\n",
       "      <td>-0.455253</td>\n",
       "      <td>1.000000</td>\n",
       "      <td>-0.565224</td>\n",
       "      <td>0.298998</td>\n",
       "    </tr>\n",
       "    <tr>\n",
       "      <th>硬度</th>\n",
       "      <td>0.105903</td>\n",
       "      <td>-0.565224</td>\n",
       "      <td>1.000000</td>\n",
       "      <td>0.198195</td>\n",
       "    </tr>\n",
       "    <tr>\n",
       "      <th>回复性</th>\n",
       "      <td>-0.454733</td>\n",
       "      <td>0.298998</td>\n",
       "      <td>0.198195</td>\n",
       "      <td>1.000000</td>\n",
       "    </tr>\n",
       "  </tbody>\n",
       "</table>\n",
       "</div>"
      ],
      "text/plain": [
       "          油条组号        弹性        硬度       回复性\n",
       "油条组号  1.000000 -0.455253  0.105903 -0.454733\n",
       "弹性   -0.455253  1.000000 -0.565224  0.298998\n",
       "硬度    0.105903 -0.565224  1.000000  0.198195\n",
       "回复性  -0.454733  0.298998  0.198195  1.000000"
      ]
     },
     "execution_count": 3,
     "metadata": {},
     "output_type": "execute_result"
    }
   ],
   "source": [
    "import pandas as pd\n",
    "df=pd.read_excel('data.xlsx')\n",
    "df_corr = df.corr()\n",
    "df_corr"
   ]
  }
 ],
 "metadata": {
  "kernelspec": {
   "display_name": "Python 3.9.13 ('base': conda)",
   "language": "python",
   "name": "python3"
  },
  "language_info": {
   "codemirror_mode": {
    "name": "ipython",
    "version": 3
   },
   "file_extension": ".py",
   "mimetype": "text/x-python",
   "name": "python",
   "nbconvert_exporter": "python",
   "pygments_lexer": "ipython3",
   "version": "3.9.13"
  },
  "orig_nbformat": 4,
  "vscode": {
   "interpreter": {
    "hash": "63b694122733cb65d0691538f646b747a4c54122ff439ca85f61f428093d1de8"
   }
  }
 },
 "nbformat": 4,
 "nbformat_minor": 2
}
