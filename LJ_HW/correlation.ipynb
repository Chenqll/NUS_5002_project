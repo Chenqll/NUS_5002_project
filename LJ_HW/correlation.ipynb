import pandas as pd
df=pd.read_csv('data.csv',encoding='utf-8')
df_corr = df.corr()
print(df_corr)
# 可视化
import seaborn as sn
import matplotlib.pyplot as plt
sn.heatmap(df_corr, annot=True)
plt.savefig('./cor.jpg')
plt.show()