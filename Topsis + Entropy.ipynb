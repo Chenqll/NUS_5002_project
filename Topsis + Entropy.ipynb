{
 "cells": [
  {
   "cell_type": "code",
   "execution_count": 11,
   "metadata": {},
   "outputs": [],
   "source": [
    "import pandas as pd\n",
    "import numpy as np"
   ]
  },
  {
   "cell_type": "code",
   "execution_count": 24,
   "metadata": {},
   "outputs": [
    {
     "name": "stdout",
     "output_type": "stream",
     "text": [
      "1846\n",
      "3\n"
     ]
    }
   ],
   "source": [
    "# Read file\n",
    "video_data = pd.read_csv('videos-stats.csv', usecols = [5,6,7], encoding='latin-1')\n",
    "# Get rows m, cols n\n",
    "m,n = video_data.shape\n",
    "print(m)\n",
    "print(n)"
   ]
  },
  {
   "cell_type": "code",
   "execution_count": 36,
   "metadata": {},
   "outputs": [],
   "source": [
    "# Def: Standardize the matrix\n",
    "def Y_ij(data1):   \n",
    "    for i in data1.columns:\n",
    "       for j in range(n+1):\n",
    "           if i == str(f'X{j}negative'):  # negative\n",
    "               data1[i]=(np.max(data1[i])-data1[i])/(np.max(data1[i])-np.min(data1[i]))\n",
    "           else:   # positive\n",
    "               data1[i]=(data1[i]-np.min(data1[i]))/(np.max(data1[i])-np.min(data1[i]))\n",
    "    return data1"
   ]
  },
  {
   "cell_type": "code",
   "execution_count": 37,
   "metadata": {},
   "outputs": [],
   "source": [
    "# Def: Caculate the entropy\n",
    "# Build empty matrix\n",
    "None_ij = [[None] * n for i in range(m)]\n",
    "def E_j(data2):\n",
    "    data2 = np.array(data2)\n",
    "    E = np.array(None_ij)\n",
    "    for i in range(m):\n",
    "        for j in range(n):\n",
    "            if data2[i][j] == 0:\n",
    "                e_ij = 0.0\n",
    "            else:\n",
    "                p_ij = data2[i][j] / data2.sum(axis=0)[j]  \n",
    "                e_ij = (-1 / np.log(m)) * p_ij * np.log(p_ij)\n",
    "            E[i][j] = e_ij\n",
    "    E_j=E.sum(axis=0)\n",
    "    return E_j"
   ]
  },
  {
   "cell_type": "code",
   "execution_count": 39,
   "metadata": {},
   "outputs": [],
   "source": [
    "# Standardize the matrix\n",
    "Y_ij = Y_ij(video_data)"
   ]
  },
  {
   "cell_type": "code",
   "execution_count": 40,
   "metadata": {},
   "outputs": [],
   "source": [
    "# Get the entropy value\n",
    "E_j = E_j(Y_ij)"
   ]
  },
  {
   "cell_type": "code",
   "execution_count": 41,
   "metadata": {},
   "outputs": [],
   "source": [
    "# Calculate the information utility value\n",
    "D_j = 1 - E_j"
   ]
  },
  {
   "cell_type": "code",
   "execution_count": 42,
   "metadata": {},
   "outputs": [],
   "source": [
    "# Calculate the weight\n",
    "W_j = D_j / sum(D_j)"
   ]
  },
  {
   "cell_type": "code",
   "execution_count": 43,
   "metadata": {},
   "outputs": [
    {
     "name": "stdout",
     "output_type": "stream",
     "text": [
      "Likes       0.301295\n",
      "Comments    0.294011\n",
      "Views       0.404695\n",
      "Name: Index Weight, dtype: object\n"
     ]
    }
   ],
   "source": [
    "# Get the weight\n",
    "IW = pd.Series(W_j, index=video_data.columns, name='Index Weight')\n",
    "print(IW)"
   ]
  },
  {
   "cell_type": "code",
   "execution_count": 44,
   "metadata": {},
   "outputs": [],
   "source": [
    "# Calculate the weighted matrix\n",
    "Y_ij = np.array(Y_ij)  # Standard matrix Y_ij\n",
    "Z_ij = np.array(None_ij)  # Empty matrix N_ij\n",
    "for i in range(m):\n",
    "    for j in range(n):\n",
    "        Z_ij[i][j]=Y_ij[i][j]*W_j[j]  \n"
   ]
  },
  {
   "cell_type": "code",
   "execution_count": 54,
   "metadata": {},
   "outputs": [],
   "source": [
    "# Calculate the optimum and the worst\n",
    "Imax_j = Z_ij.max(axis=0)  \n",
    "Imin_j = Z_ij.min(axis=0)  \n",
    "Dmax_ij = np.array(None_ij)\n",
    "Dmin_ij = np.array(None_ij)\n",
    "for i in range(m):\n",
    "    for j in range(n):\n",
    "        Dmax_ij[i][j] = (Imax_j[j] - Z_ij[i][j]) ** 2\n",
    "        Dmin_ij[i][j] = (Imin_j[j] - Z_ij[i][j]) ** 2"
   ]
  },
  {
   "cell_type": "code",
   "execution_count": 63,
   "metadata": {},
   "outputs": [],
   "source": [
    "# Calculate the pop score\n",
    "Dmax_i = Dmax_ij.sum(axis=1)**0.5  \n",
    "Dmin_i = Dmin_ij.sum(axis=1)**0.5  \n",
    "S_i = Dmin_i/(Dmin_i + Dmax_i)\n",
    "S_i= pd.Series(S_i, index=video_data.index, name='pop_score')"
   ]
  },
  {
   "cell_type": "code",
   "execution_count": 64,
   "metadata": {},
   "outputs": [],
   "source": [
    "# Append new column\n",
    "data = pd.read_csv('videos-stats.csv', encoding='latin-1')\n",
    "data['pop_score'] = S_i\n",
    "data.to_csv('videos-stats.csv', index = False, sep = ',')\n",
    "data = pd.read_csv('videos-stats.csv')"
   ]
  }
 ],
 "metadata": {
  "kernelspec": {
   "display_name": "Python 3",
   "language": "python",
   "name": "python3"
  },
  "language_info": {
   "codemirror_mode": {
    "name": "ipython",
    "version": 3
   },
   "file_extension": ".py",
   "mimetype": "text/x-python",
   "name": "python",
   "nbconvert_exporter": "python",
   "pygments_lexer": "ipython3",
   "version": "3.9.5"
  },
  "orig_nbformat": 4,
  "vscode": {
   "interpreter": {
    "hash": "45037c9fa964e33746a67959e611b1255904e81b18931a74a47f598c93f55abd"
   }
  }
 },
 "nbformat": 4,
 "nbformat_minor": 2
}
