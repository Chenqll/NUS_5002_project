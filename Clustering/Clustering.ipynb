{
  "nbformat": 4,
  "nbformat_minor": 0,
  "metadata": {
    "colab": {
      "provenance": []
    },
    "kernelspec": {
      "name": "python3",
      "display_name": "Python 3"
    },
    "language_info": {
      "name": "python"
    },
    "accelerator": "GPU",
    "gpuClass": "standard"
  },
  "cells": [
    {
      "cell_type": "code",
      "source": [
        "import pandas as pd\n",
        "ck=pd.read_csv('/content/comment_keyword_true_tag.csv')\n",
        "comments=pd.read_csv('/content/comments.csv')"
      ],
      "metadata": {
        "id": "jANhvUtZLveP"
      },
      "execution_count": null,
      "outputs": []
    },
    {
      "cell_type": "code",
      "source": [
        "comments.head()"
      ],
      "metadata": {
        "colab": {
          "base_uri": "https://localhost:8080/",
          "height": 206
        },
        "id": "BCahyKLL69YY",
        "outputId": "92fb3093-b7c9-41f6-e822-9b4566a9a2e3"
      },
      "execution_count": null,
      "outputs": [
        {
          "output_type": "execute_result",
          "data": {
            "text/plain": [
              "   Unnamed: 0     Video ID                                            Comment  \\\n",
              "0           0  wAZZ-UWGVHI  Let's not forget that Apple Pay in 2014 requir...   \n",
              "1           1  wAZZ-UWGVHI  Here in NZ 50% of retailers don’t even have co...   \n",
              "2           2  wAZZ-UWGVHI  I will forever acknowledge this channel with t...   \n",
              "3           3  wAZZ-UWGVHI  Whenever I go to a place that doesn’t take App...   \n",
              "4           4  wAZZ-UWGVHI  Apple Pay is so convenient, secure, and easy t...   \n",
              "\n",
              "   Likes  Sentiment  \n",
              "0   95.0        1.0  \n",
              "1   19.0        0.0  \n",
              "2  161.0        2.0  \n",
              "3    8.0        0.0  \n",
              "4   34.0        2.0  "
            ],
            "text/html": [
              "\n",
              "  <div id=\"df-5608e274-11bc-4e17-b058-cfc5b90fb5f3\">\n",
              "    <div class=\"colab-df-container\">\n",
              "      <div>\n",
              "<style scoped>\n",
              "    .dataframe tbody tr th:only-of-type {\n",
              "        vertical-align: middle;\n",
              "    }\n",
              "\n",
              "    .dataframe tbody tr th {\n",
              "        vertical-align: top;\n",
              "    }\n",
              "\n",
              "    .dataframe thead th {\n",
              "        text-align: right;\n",
              "    }\n",
              "</style>\n",
              "<table border=\"1\" class=\"dataframe\">\n",
              "  <thead>\n",
              "    <tr style=\"text-align: right;\">\n",
              "      <th></th>\n",
              "      <th>Unnamed: 0</th>\n",
              "      <th>Video ID</th>\n",
              "      <th>Comment</th>\n",
              "      <th>Likes</th>\n",
              "      <th>Sentiment</th>\n",
              "    </tr>\n",
              "  </thead>\n",
              "  <tbody>\n",
              "    <tr>\n",
              "      <th>0</th>\n",
              "      <td>0</td>\n",
              "      <td>wAZZ-UWGVHI</td>\n",
              "      <td>Let's not forget that Apple Pay in 2014 requir...</td>\n",
              "      <td>95.0</td>\n",
              "      <td>1.0</td>\n",
              "    </tr>\n",
              "    <tr>\n",
              "      <th>1</th>\n",
              "      <td>1</td>\n",
              "      <td>wAZZ-UWGVHI</td>\n",
              "      <td>Here in NZ 50% of retailers don’t even have co...</td>\n",
              "      <td>19.0</td>\n",
              "      <td>0.0</td>\n",
              "    </tr>\n",
              "    <tr>\n",
              "      <th>2</th>\n",
              "      <td>2</td>\n",
              "      <td>wAZZ-UWGVHI</td>\n",
              "      <td>I will forever acknowledge this channel with t...</td>\n",
              "      <td>161.0</td>\n",
              "      <td>2.0</td>\n",
              "    </tr>\n",
              "    <tr>\n",
              "      <th>3</th>\n",
              "      <td>3</td>\n",
              "      <td>wAZZ-UWGVHI</td>\n",
              "      <td>Whenever I go to a place that doesn’t take App...</td>\n",
              "      <td>8.0</td>\n",
              "      <td>0.0</td>\n",
              "    </tr>\n",
              "    <tr>\n",
              "      <th>4</th>\n",
              "      <td>4</td>\n",
              "      <td>wAZZ-UWGVHI</td>\n",
              "      <td>Apple Pay is so convenient, secure, and easy t...</td>\n",
              "      <td>34.0</td>\n",
              "      <td>2.0</td>\n",
              "    </tr>\n",
              "  </tbody>\n",
              "</table>\n",
              "</div>\n",
              "      <button class=\"colab-df-convert\" onclick=\"convertToInteractive('df-5608e274-11bc-4e17-b058-cfc5b90fb5f3')\"\n",
              "              title=\"Convert this dataframe to an interactive table.\"\n",
              "              style=\"display:none;\">\n",
              "        \n",
              "  <svg xmlns=\"http://www.w3.org/2000/svg\" height=\"24px\"viewBox=\"0 0 24 24\"\n",
              "       width=\"24px\">\n",
              "    <path d=\"M0 0h24v24H0V0z\" fill=\"none\"/>\n",
              "    <path d=\"M18.56 5.44l.94 2.06.94-2.06 2.06-.94-2.06-.94-.94-2.06-.94 2.06-2.06.94zm-11 1L8.5 8.5l.94-2.06 2.06-.94-2.06-.94L8.5 2.5l-.94 2.06-2.06.94zm10 10l.94 2.06.94-2.06 2.06-.94-2.06-.94-.94-2.06-.94 2.06-2.06.94z\"/><path d=\"M17.41 7.96l-1.37-1.37c-.4-.4-.92-.59-1.43-.59-.52 0-1.04.2-1.43.59L10.3 9.45l-7.72 7.72c-.78.78-.78 2.05 0 2.83L4 21.41c.39.39.9.59 1.41.59.51 0 1.02-.2 1.41-.59l7.78-7.78 2.81-2.81c.8-.78.8-2.07 0-2.86zM5.41 20L4 18.59l7.72-7.72 1.47 1.35L5.41 20z\"/>\n",
              "  </svg>\n",
              "      </button>\n",
              "      \n",
              "  <style>\n",
              "    .colab-df-container {\n",
              "      display:flex;\n",
              "      flex-wrap:wrap;\n",
              "      gap: 12px;\n",
              "    }\n",
              "\n",
              "    .colab-df-convert {\n",
              "      background-color: #E8F0FE;\n",
              "      border: none;\n",
              "      border-radius: 50%;\n",
              "      cursor: pointer;\n",
              "      display: none;\n",
              "      fill: #1967D2;\n",
              "      height: 32px;\n",
              "      padding: 0 0 0 0;\n",
              "      width: 32px;\n",
              "    }\n",
              "\n",
              "    .colab-df-convert:hover {\n",
              "      background-color: #E2EBFA;\n",
              "      box-shadow: 0px 1px 2px rgba(60, 64, 67, 0.3), 0px 1px 3px 1px rgba(60, 64, 67, 0.15);\n",
              "      fill: #174EA6;\n",
              "    }\n",
              "\n",
              "    [theme=dark] .colab-df-convert {\n",
              "      background-color: #3B4455;\n",
              "      fill: #D2E3FC;\n",
              "    }\n",
              "\n",
              "    [theme=dark] .colab-df-convert:hover {\n",
              "      background-color: #434B5C;\n",
              "      box-shadow: 0px 1px 3px 1px rgba(0, 0, 0, 0.15);\n",
              "      filter: drop-shadow(0px 1px 2px rgba(0, 0, 0, 0.3));\n",
              "      fill: #FFFFFF;\n",
              "    }\n",
              "  </style>\n",
              "\n",
              "      <script>\n",
              "        const buttonEl =\n",
              "          document.querySelector('#df-5608e274-11bc-4e17-b058-cfc5b90fb5f3 button.colab-df-convert');\n",
              "        buttonEl.style.display =\n",
              "          google.colab.kernel.accessAllowed ? 'block' : 'none';\n",
              "\n",
              "        async function convertToInteractive(key) {\n",
              "          const element = document.querySelector('#df-5608e274-11bc-4e17-b058-cfc5b90fb5f3');\n",
              "          const dataTable =\n",
              "            await google.colab.kernel.invokeFunction('convertToInteractive',\n",
              "                                                     [key], {});\n",
              "          if (!dataTable) return;\n",
              "\n",
              "          const docLinkHtml = 'Like what you see? Visit the ' +\n",
              "            '<a target=\"_blank\" href=https://colab.research.google.com/notebooks/data_table.ipynb>data table notebook</a>'\n",
              "            + ' to learn more about interactive tables.';\n",
              "          element.innerHTML = '';\n",
              "          dataTable['output_type'] = 'display_data';\n",
              "          await google.colab.output.renderOutput(dataTable, element);\n",
              "          const docLink = document.createElement('div');\n",
              "          docLink.innerHTML = docLinkHtml;\n",
              "          element.appendChild(docLink);\n",
              "        }\n",
              "      </script>\n",
              "    </div>\n",
              "  </div>\n",
              "  "
            ]
          },
          "metadata": {},
          "execution_count": 2
        }
      ]
    },
    {
      "cell_type": "code",
      "source": [
        "ck.head()"
      ],
      "metadata": {
        "colab": {
          "base_uri": "https://localhost:8080/",
          "height": 206
        },
        "id": "pbmhTkyuLvrl",
        "outputId": "aa3ecd2c-fb0c-4435-abd5-55e5eaecec05"
      },
      "execution_count": null,
      "outputs": [
        {
          "output_type": "execute_result",
          "data": {
            "text/plain": [
              "      Video ID                                        Comment_tag  \\\n",
              "0  --ZI0dSbbNU  ['’', 'happy', 'eating', 'see', 'u', 'sufferin...   \n",
              "1  --hxd1CrOqg  ['’', 'really', 'unfortunate', 'intended', 'ta...   \n",
              "2  --ixiTypG8g  ['biggest', 'problem', 'college', 'charging', ...   \n",
              "3  -64r1hcxtV4  ['8:20-', '10:00', '.....', 'thought', 'happen...   \n",
              "4  -6IgkG5yZfo  ['Hope', 'make', 'life', 'easier', '..', '00:4...   \n",
              "\n",
              "                                     Comment_keyword  \n",
              "0  ['eating', 'eat', 'eats', 'fry', 'feel', 'smil...  \n",
              "1  ['russia', 'til', 'n', 'wo', 'realize', 'ukrai...  \n",
              "2  ['college', 'colleges', 'tuition', 'regulated'...  \n",
              "3  ['life', 'inspiration', 'inspiring', 'inspire'...  \n",
              "4  ['thankful', 'thank', 'thanks', 'time', 'help'...  "
            ],
            "text/html": [
              "\n",
              "  <div id=\"df-0f76c3a8-20cd-4978-b83e-fd818387af3c\">\n",
              "    <div class=\"colab-df-container\">\n",
              "      <div>\n",
              "<style scoped>\n",
              "    .dataframe tbody tr th:only-of-type {\n",
              "        vertical-align: middle;\n",
              "    }\n",
              "\n",
              "    .dataframe tbody tr th {\n",
              "        vertical-align: top;\n",
              "    }\n",
              "\n",
              "    .dataframe thead th {\n",
              "        text-align: right;\n",
              "    }\n",
              "</style>\n",
              "<table border=\"1\" class=\"dataframe\">\n",
              "  <thead>\n",
              "    <tr style=\"text-align: right;\">\n",
              "      <th></th>\n",
              "      <th>Video ID</th>\n",
              "      <th>Comment_tag</th>\n",
              "      <th>Comment_keyword</th>\n",
              "    </tr>\n",
              "  </thead>\n",
              "  <tbody>\n",
              "    <tr>\n",
              "      <th>0</th>\n",
              "      <td>--ZI0dSbbNU</td>\n",
              "      <td>['’', 'happy', 'eating', 'see', 'u', 'sufferin...</td>\n",
              "      <td>['eating', 'eat', 'eats', 'fry', 'feel', 'smil...</td>\n",
              "    </tr>\n",
              "    <tr>\n",
              "      <th>1</th>\n",
              "      <td>--hxd1CrOqg</td>\n",
              "      <td>['’', 'really', 'unfortunate', 'intended', 'ta...</td>\n",
              "      <td>['russia', 'til', 'n', 'wo', 'realize', 'ukrai...</td>\n",
              "    </tr>\n",
              "    <tr>\n",
              "      <th>2</th>\n",
              "      <td>--ixiTypG8g</td>\n",
              "      <td>['biggest', 'problem', 'college', 'charging', ...</td>\n",
              "      <td>['college', 'colleges', 'tuition', 'regulated'...</td>\n",
              "    </tr>\n",
              "    <tr>\n",
              "      <th>3</th>\n",
              "      <td>-64r1hcxtV4</td>\n",
              "      <td>['8:20-', '10:00', '.....', 'thought', 'happen...</td>\n",
              "      <td>['life', 'inspiration', 'inspiring', 'inspire'...</td>\n",
              "    </tr>\n",
              "    <tr>\n",
              "      <th>4</th>\n",
              "      <td>-6IgkG5yZfo</td>\n",
              "      <td>['Hope', 'make', 'life', 'easier', '..', '00:4...</td>\n",
              "      <td>['thankful', 'thank', 'thanks', 'time', 'help'...</td>\n",
              "    </tr>\n",
              "  </tbody>\n",
              "</table>\n",
              "</div>\n",
              "      <button class=\"colab-df-convert\" onclick=\"convertToInteractive('df-0f76c3a8-20cd-4978-b83e-fd818387af3c')\"\n",
              "              title=\"Convert this dataframe to an interactive table.\"\n",
              "              style=\"display:none;\">\n",
              "        \n",
              "  <svg xmlns=\"http://www.w3.org/2000/svg\" height=\"24px\"viewBox=\"0 0 24 24\"\n",
              "       width=\"24px\">\n",
              "    <path d=\"M0 0h24v24H0V0z\" fill=\"none\"/>\n",
              "    <path d=\"M18.56 5.44l.94 2.06.94-2.06 2.06-.94-2.06-.94-.94-2.06-.94 2.06-2.06.94zm-11 1L8.5 8.5l.94-2.06 2.06-.94-2.06-.94L8.5 2.5l-.94 2.06-2.06.94zm10 10l.94 2.06.94-2.06 2.06-.94-2.06-.94-.94-2.06-.94 2.06-2.06.94z\"/><path d=\"M17.41 7.96l-1.37-1.37c-.4-.4-.92-.59-1.43-.59-.52 0-1.04.2-1.43.59L10.3 9.45l-7.72 7.72c-.78.78-.78 2.05 0 2.83L4 21.41c.39.39.9.59 1.41.59.51 0 1.02-.2 1.41-.59l7.78-7.78 2.81-2.81c.8-.78.8-2.07 0-2.86zM5.41 20L4 18.59l7.72-7.72 1.47 1.35L5.41 20z\"/>\n",
              "  </svg>\n",
              "      </button>\n",
              "      \n",
              "  <style>\n",
              "    .colab-df-container {\n",
              "      display:flex;\n",
              "      flex-wrap:wrap;\n",
              "      gap: 12px;\n",
              "    }\n",
              "\n",
              "    .colab-df-convert {\n",
              "      background-color: #E8F0FE;\n",
              "      border: none;\n",
              "      border-radius: 50%;\n",
              "      cursor: pointer;\n",
              "      display: none;\n",
              "      fill: #1967D2;\n",
              "      height: 32px;\n",
              "      padding: 0 0 0 0;\n",
              "      width: 32px;\n",
              "    }\n",
              "\n",
              "    .colab-df-convert:hover {\n",
              "      background-color: #E2EBFA;\n",
              "      box-shadow: 0px 1px 2px rgba(60, 64, 67, 0.3), 0px 1px 3px 1px rgba(60, 64, 67, 0.15);\n",
              "      fill: #174EA6;\n",
              "    }\n",
              "\n",
              "    [theme=dark] .colab-df-convert {\n",
              "      background-color: #3B4455;\n",
              "      fill: #D2E3FC;\n",
              "    }\n",
              "\n",
              "    [theme=dark] .colab-df-convert:hover {\n",
              "      background-color: #434B5C;\n",
              "      box-shadow: 0px 1px 3px 1px rgba(0, 0, 0, 0.15);\n",
              "      filter: drop-shadow(0px 1px 2px rgba(0, 0, 0, 0.3));\n",
              "      fill: #FFFFFF;\n",
              "    }\n",
              "  </style>\n",
              "\n",
              "      <script>\n",
              "        const buttonEl =\n",
              "          document.querySelector('#df-0f76c3a8-20cd-4978-b83e-fd818387af3c button.colab-df-convert');\n",
              "        buttonEl.style.display =\n",
              "          google.colab.kernel.accessAllowed ? 'block' : 'none';\n",
              "\n",
              "        async function convertToInteractive(key) {\n",
              "          const element = document.querySelector('#df-0f76c3a8-20cd-4978-b83e-fd818387af3c');\n",
              "          const dataTable =\n",
              "            await google.colab.kernel.invokeFunction('convertToInteractive',\n",
              "                                                     [key], {});\n",
              "          if (!dataTable) return;\n",
              "\n",
              "          const docLinkHtml = 'Like what you see? Visit the ' +\n",
              "            '<a target=\"_blank\" href=https://colab.research.google.com/notebooks/data_table.ipynb>data table notebook</a>'\n",
              "            + ' to learn more about interactive tables.';\n",
              "          element.innerHTML = '';\n",
              "          dataTable['output_type'] = 'display_data';\n",
              "          await google.colab.output.renderOutput(dataTable, element);\n",
              "          const docLink = document.createElement('div');\n",
              "          docLink.innerHTML = docLinkHtml;\n",
              "          element.appendChild(docLink);\n",
              "        }\n",
              "      </script>\n",
              "    </div>\n",
              "  </div>\n",
              "  "
            ]
          },
          "metadata": {},
          "execution_count": 3
        }
      ]
    },
    {
      "cell_type": "code",
      "source": [
        "# delete invalid col\n",
        "comments=comments.drop(columns=['Unnamed: 0'],axis=1)\n",
        "\n",
        "# delete nan value\n",
        "comments=comments.dropna()"
      ],
      "metadata": {
        "id": "xoC5XwvH8d52"
      },
      "execution_count": null,
      "outputs": []
    },
    {
      "cell_type": "code",
      "source": [
        "from wordcloud import WordCloud\n",
        "import nltk\n",
        "nltk.download('stopwords')\n",
        "from nltk.corpus import stopwords\n",
        "nltk.download('punkt')\n",
        "from nltk.tokenize import word_tokenize\n",
        "import string\n",
        "from nltk.stem import WordNetLemmatizer\n",
        "wordnet_lemmatizer = WordNetLemmatizer()\n",
        "import nltk\n",
        "nltk.download('wordnet')\n",
        "nltk.download('omw-1.4')\n",
        "\n",
        "# stopwords\n",
        "new_stopwords = [\"video\", \"s\", \"to\", \"on\", \"daily\"]\n",
        "stpwrd = nltk.corpus.stopwords.words('english')\n",
        "stpwrd.extend(new_stopwords)\n",
        "stpwrd.extend(string.punctuation)\n",
        "\n",
        "\n",
        "def generate_tag(comments):\n",
        "    word_tokens=word_tokenize(comments)\n",
        "    lemmatized_output =[wordnet_lemmatizer.lemmatize(w) for w in word_tokens]\n",
        "    filter_sen=[w for w in lemmatized_output if not w.lower() in stpwrd]\n",
        "\n",
        "    return filter_sen\n",
        "\n",
        "comment_words = ''\n",
        "\n",
        "\n",
        "comments['Comment_tag']=comments['Comment'].apply(generate_tag)\n",
        "\n",
        "comments['Comment_tag']=comments['Comment_tag'].apply(str)\n",
        "\n",
        "comments[0:10]"
      ],
      "metadata": {
        "colab": {
          "base_uri": "https://localhost:8080/",
          "height": 471
        },
        "id": "Ut4yu5Gm7LuA",
        "outputId": "cda24832-8961-44f1-f339-522e81715a32"
      },
      "execution_count": null,
      "outputs": [
        {
          "output_type": "stream",
          "name": "stderr",
          "text": [
            "[nltk_data] Downloading package stopwords to /root/nltk_data...\n",
            "[nltk_data]   Unzipping corpora/stopwords.zip.\n",
            "[nltk_data] Downloading package punkt to /root/nltk_data...\n",
            "[nltk_data]   Unzipping tokenizers/punkt.zip.\n",
            "[nltk_data] Downloading package wordnet to /root/nltk_data...\n",
            "[nltk_data] Downloading package omw-1.4 to /root/nltk_data...\n"
          ]
        },
        {
          "output_type": "execute_result",
          "data": {
            "text/plain": [
              "      Video ID                                            Comment  Likes  \\\n",
              "0  wAZZ-UWGVHI  Let's not forget that Apple Pay in 2014 requir...   95.0   \n",
              "1  wAZZ-UWGVHI  Here in NZ 50% of retailers don’t even have co...   19.0   \n",
              "2  wAZZ-UWGVHI  I will forever acknowledge this channel with t...  161.0   \n",
              "3  wAZZ-UWGVHI  Whenever I go to a place that doesn’t take App...    8.0   \n",
              "4  wAZZ-UWGVHI  Apple Pay is so convenient, secure, and easy t...   34.0   \n",
              "5  wAZZ-UWGVHI  We’ve been hounding my bank to adopt Apple pay...    8.0   \n",
              "6  wAZZ-UWGVHI  We only got Apple Pay in South Africa in 2020/...   29.0   \n",
              "7  wAZZ-UWGVHI  For now, I need both Apple Pay and the physica...    7.0   \n",
              "8  wAZZ-UWGVHI  In the United States, we have an abundance of ...    2.0   \n",
              "9  wAZZ-UWGVHI  In Cambodia, we have a universal QR code syste...   28.0   \n",
              "\n",
              "   Sentiment                                        Comment_tag  \n",
              "0        1.0  ['Let', \"'s\", 'forget', 'Apple', 'Pay', '2014'...  \n",
              "1        0.0  ['NZ', '50', 'retailer', '’', 'even', 'contact...  \n",
              "2        2.0  ['forever', 'acknowledge', 'channel', 'help', ...  \n",
              "3        0.0  ['Whenever', 'go', 'place', '’', 'take', 'Appl...  \n",
              "4        2.0  ['Apple', 'Pay', 'convenient', 'secure', 'easy...  \n",
              "5        1.0  ['’', 'hounding', 'bank', 'adopt', 'Apple', 'p...  \n",
              "6        2.0  ['got', 'Apple', 'Pay', 'South', 'Africa', '20...  \n",
              "7        1.0  ['need', 'Apple', 'Pay', 'physical', 'credit',...  \n",
              "8        2.0  ['United', 'States', 'abundance', 'retailer', ...  \n",
              "9        1.0  ['Cambodia', 'universal', 'QR', 'code', 'syste...  "
            ],
            "text/html": [
              "\n",
              "  <div id=\"df-bc653180-8813-4678-a13a-5acd4e8a7b2d\">\n",
              "    <div class=\"colab-df-container\">\n",
              "      <div>\n",
              "<style scoped>\n",
              "    .dataframe tbody tr th:only-of-type {\n",
              "        vertical-align: middle;\n",
              "    }\n",
              "\n",
              "    .dataframe tbody tr th {\n",
              "        vertical-align: top;\n",
              "    }\n",
              "\n",
              "    .dataframe thead th {\n",
              "        text-align: right;\n",
              "    }\n",
              "</style>\n",
              "<table border=\"1\" class=\"dataframe\">\n",
              "  <thead>\n",
              "    <tr style=\"text-align: right;\">\n",
              "      <th></th>\n",
              "      <th>Video ID</th>\n",
              "      <th>Comment</th>\n",
              "      <th>Likes</th>\n",
              "      <th>Sentiment</th>\n",
              "      <th>Comment_tag</th>\n",
              "    </tr>\n",
              "  </thead>\n",
              "  <tbody>\n",
              "    <tr>\n",
              "      <th>0</th>\n",
              "      <td>wAZZ-UWGVHI</td>\n",
              "      <td>Let's not forget that Apple Pay in 2014 requir...</td>\n",
              "      <td>95.0</td>\n",
              "      <td>1.0</td>\n",
              "      <td>['Let', \"'s\", 'forget', 'Apple', 'Pay', '2014'...</td>\n",
              "    </tr>\n",
              "    <tr>\n",
              "      <th>1</th>\n",
              "      <td>wAZZ-UWGVHI</td>\n",
              "      <td>Here in NZ 50% of retailers don’t even have co...</td>\n",
              "      <td>19.0</td>\n",
              "      <td>0.0</td>\n",
              "      <td>['NZ', '50', 'retailer', '’', 'even', 'contact...</td>\n",
              "    </tr>\n",
              "    <tr>\n",
              "      <th>2</th>\n",
              "      <td>wAZZ-UWGVHI</td>\n",
              "      <td>I will forever acknowledge this channel with t...</td>\n",
              "      <td>161.0</td>\n",
              "      <td>2.0</td>\n",
              "      <td>['forever', 'acknowledge', 'channel', 'help', ...</td>\n",
              "    </tr>\n",
              "    <tr>\n",
              "      <th>3</th>\n",
              "      <td>wAZZ-UWGVHI</td>\n",
              "      <td>Whenever I go to a place that doesn’t take App...</td>\n",
              "      <td>8.0</td>\n",
              "      <td>0.0</td>\n",
              "      <td>['Whenever', 'go', 'place', '’', 'take', 'Appl...</td>\n",
              "    </tr>\n",
              "    <tr>\n",
              "      <th>4</th>\n",
              "      <td>wAZZ-UWGVHI</td>\n",
              "      <td>Apple Pay is so convenient, secure, and easy t...</td>\n",
              "      <td>34.0</td>\n",
              "      <td>2.0</td>\n",
              "      <td>['Apple', 'Pay', 'convenient', 'secure', 'easy...</td>\n",
              "    </tr>\n",
              "    <tr>\n",
              "      <th>5</th>\n",
              "      <td>wAZZ-UWGVHI</td>\n",
              "      <td>We’ve been hounding my bank to adopt Apple pay...</td>\n",
              "      <td>8.0</td>\n",
              "      <td>1.0</td>\n",
              "      <td>['’', 'hounding', 'bank', 'adopt', 'Apple', 'p...</td>\n",
              "    </tr>\n",
              "    <tr>\n",
              "      <th>6</th>\n",
              "      <td>wAZZ-UWGVHI</td>\n",
              "      <td>We only got Apple Pay in South Africa in 2020/...</td>\n",
              "      <td>29.0</td>\n",
              "      <td>2.0</td>\n",
              "      <td>['got', 'Apple', 'Pay', 'South', 'Africa', '20...</td>\n",
              "    </tr>\n",
              "    <tr>\n",
              "      <th>7</th>\n",
              "      <td>wAZZ-UWGVHI</td>\n",
              "      <td>For now, I need both Apple Pay and the physica...</td>\n",
              "      <td>7.0</td>\n",
              "      <td>1.0</td>\n",
              "      <td>['need', 'Apple', 'Pay', 'physical', 'credit',...</td>\n",
              "    </tr>\n",
              "    <tr>\n",
              "      <th>8</th>\n",
              "      <td>wAZZ-UWGVHI</td>\n",
              "      <td>In the United States, we have an abundance of ...</td>\n",
              "      <td>2.0</td>\n",
              "      <td>2.0</td>\n",
              "      <td>['United', 'States', 'abundance', 'retailer', ...</td>\n",
              "    </tr>\n",
              "    <tr>\n",
              "      <th>9</th>\n",
              "      <td>wAZZ-UWGVHI</td>\n",
              "      <td>In Cambodia, we have a universal QR code syste...</td>\n",
              "      <td>28.0</td>\n",
              "      <td>1.0</td>\n",
              "      <td>['Cambodia', 'universal', 'QR', 'code', 'syste...</td>\n",
              "    </tr>\n",
              "  </tbody>\n",
              "</table>\n",
              "</div>\n",
              "      <button class=\"colab-df-convert\" onclick=\"convertToInteractive('df-bc653180-8813-4678-a13a-5acd4e8a7b2d')\"\n",
              "              title=\"Convert this dataframe to an interactive table.\"\n",
              "              style=\"display:none;\">\n",
              "        \n",
              "  <svg xmlns=\"http://www.w3.org/2000/svg\" height=\"24px\"viewBox=\"0 0 24 24\"\n",
              "       width=\"24px\">\n",
              "    <path d=\"M0 0h24v24H0V0z\" fill=\"none\"/>\n",
              "    <path d=\"M18.56 5.44l.94 2.06.94-2.06 2.06-.94-2.06-.94-.94-2.06-.94 2.06-2.06.94zm-11 1L8.5 8.5l.94-2.06 2.06-.94-2.06-.94L8.5 2.5l-.94 2.06-2.06.94zm10 10l.94 2.06.94-2.06 2.06-.94-2.06-.94-.94-2.06-.94 2.06-2.06.94z\"/><path d=\"M17.41 7.96l-1.37-1.37c-.4-.4-.92-.59-1.43-.59-.52 0-1.04.2-1.43.59L10.3 9.45l-7.72 7.72c-.78.78-.78 2.05 0 2.83L4 21.41c.39.39.9.59 1.41.59.51 0 1.02-.2 1.41-.59l7.78-7.78 2.81-2.81c.8-.78.8-2.07 0-2.86zM5.41 20L4 18.59l7.72-7.72 1.47 1.35L5.41 20z\"/>\n",
              "  </svg>\n",
              "      </button>\n",
              "      \n",
              "  <style>\n",
              "    .colab-df-container {\n",
              "      display:flex;\n",
              "      flex-wrap:wrap;\n",
              "      gap: 12px;\n",
              "    }\n",
              "\n",
              "    .colab-df-convert {\n",
              "      background-color: #E8F0FE;\n",
              "      border: none;\n",
              "      border-radius: 50%;\n",
              "      cursor: pointer;\n",
              "      display: none;\n",
              "      fill: #1967D2;\n",
              "      height: 32px;\n",
              "      padding: 0 0 0 0;\n",
              "      width: 32px;\n",
              "    }\n",
              "\n",
              "    .colab-df-convert:hover {\n",
              "      background-color: #E2EBFA;\n",
              "      box-shadow: 0px 1px 2px rgba(60, 64, 67, 0.3), 0px 1px 3px 1px rgba(60, 64, 67, 0.15);\n",
              "      fill: #174EA6;\n",
              "    }\n",
              "\n",
              "    [theme=dark] .colab-df-convert {\n",
              "      background-color: #3B4455;\n",
              "      fill: #D2E3FC;\n",
              "    }\n",
              "\n",
              "    [theme=dark] .colab-df-convert:hover {\n",
              "      background-color: #434B5C;\n",
              "      box-shadow: 0px 1px 3px 1px rgba(0, 0, 0, 0.15);\n",
              "      filter: drop-shadow(0px 1px 2px rgba(0, 0, 0, 0.3));\n",
              "      fill: #FFFFFF;\n",
              "    }\n",
              "  </style>\n",
              "\n",
              "      <script>\n",
              "        const buttonEl =\n",
              "          document.querySelector('#df-bc653180-8813-4678-a13a-5acd4e8a7b2d button.colab-df-convert');\n",
              "        buttonEl.style.display =\n",
              "          google.colab.kernel.accessAllowed ? 'block' : 'none';\n",
              "\n",
              "        async function convertToInteractive(key) {\n",
              "          const element = document.querySelector('#df-bc653180-8813-4678-a13a-5acd4e8a7b2d');\n",
              "          const dataTable =\n",
              "            await google.colab.kernel.invokeFunction('convertToInteractive',\n",
              "                                                     [key], {});\n",
              "          if (!dataTable) return;\n",
              "\n",
              "          const docLinkHtml = 'Like what you see? Visit the ' +\n",
              "            '<a target=\"_blank\" href=https://colab.research.google.com/notebooks/data_table.ipynb>data table notebook</a>'\n",
              "            + ' to learn more about interactive tables.';\n",
              "          element.innerHTML = '';\n",
              "          dataTable['output_type'] = 'display_data';\n",
              "          await google.colab.output.renderOutput(dataTable, element);\n",
              "          const docLink = document.createElement('div');\n",
              "          docLink.innerHTML = docLinkHtml;\n",
              "          element.appendChild(docLink);\n",
              "        }\n",
              "      </script>\n",
              "    </div>\n",
              "  </div>\n",
              "  "
            ]
          },
          "metadata": {},
          "execution_count": 5
        }
      ]
    },
    {
      "cell_type": "code",
      "source": [
        "from nltk import FreqDist, SnowballStemmer\n",
        "import string\n",
        "from nltk.corpus import stopwords\n",
        "\n",
        "stop = stopwords.words('english')\n",
        "snowball = SnowballStemmer('english')\n",
        "\n",
        "def pre_process(text):\n",
        "    tokens = nltk.word_tokenize(text.lower())\n",
        "    tokens = [ t for t in tokens if t not in string.punctuation+\"’“”\" ]\n",
        "    tokens = [ t for t in tokens if not t.isnumeric() ]\n",
        "    tokens = [ snowball.stem(t) for t in tokens ]\n",
        "    tokens=[filter_sen.lemmatize(t) for t in tokens]\n",
        "    tokens=[word for word in tokens if word not in stpwrd]\n",
        "    text_after_process=\" \".join(tokens)\n",
        "    return(text_after_process)"
      ],
      "metadata": {
        "id": "ndh268oO9sH0"
      },
      "execution_count": null,
      "outputs": []
    },
    {
      "cell_type": "code",
      "source": [
        "pip install -U scikit-learn"
      ],
      "metadata": {
        "colab": {
          "base_uri": "https://localhost:8080/"
        },
        "id": "jLDqOWal_nDX",
        "outputId": "3c4e416d-51bb-4bb8-f51f-660585c072b5"
      },
      "execution_count": null,
      "outputs": [
        {
          "output_type": "stream",
          "name": "stdout",
          "text": [
            "Looking in indexes: https://pypi.org/simple, https://us-python.pkg.dev/colab-wheels/public/simple/\n",
            "Requirement already satisfied: scikit-learn in /usr/local/lib/python3.7/dist-packages (1.0.2)\n",
            "Requirement already satisfied: threadpoolctl>=2.0.0 in /usr/local/lib/python3.7/dist-packages (from scikit-learn) (3.1.0)\n",
            "Requirement already satisfied: joblib>=0.11 in /usr/local/lib/python3.7/dist-packages (from scikit-learn) (1.2.0)\n",
            "Requirement already satisfied: numpy>=1.14.6 in /usr/local/lib/python3.7/dist-packages (from scikit-learn) (1.21.6)\n",
            "Requirement already satisfied: scipy>=1.1.0 in /usr/local/lib/python3.7/dist-packages (from scikit-learn) (1.7.3)\n"
          ]
        }
      ]
    },
    {
      "cell_type": "code",
      "source": [
        "####################################### TDM\n",
        "from sklearn.feature_extraction.text import TfidfVectorizer\n",
        "from sklearn.preprocessing import Normalizer\n",
        "from sklearn.decomposition import TruncatedSVD\n",
        "from sklearn.pipeline import make_pipeline\n",
        "\n",
        "# Create tfidf matrix\n",
        "vectorizer = TfidfVectorizer(max_df=2000, max_features=2500,\n",
        "                             min_df=1, stop_words=stpwrd,\n",
        "                             use_idf=True)\n",
        "X = vectorizer.fit_transform(ck['Comment_keyword'])\n",
        "X.shape"
      ],
      "metadata": {
        "colab": {
          "base_uri": "https://localhost:8080/"
        },
        "id": "DqoF4wJm599z",
        "outputId": "b9ea6749-676a-4fdc-f9c8-9e649b43b6c6"
      },
      "execution_count": null,
      "outputs": [
        {
          "output_type": "execute_result",
          "data": {
            "text/plain": [
              "(1869, 2500)"
            ]
          },
          "metadata": {},
          "execution_count": 130
        }
      ]
    },
    {
      "cell_type": "code",
      "source": [
        "X1=X.toarray()"
      ],
      "metadata": {
        "id": "mEU_DcuNT48O"
      },
      "execution_count": null,
      "outputs": []
    },
    {
      "cell_type": "code",
      "source": [
        "import matplotlib.pyplot as plt\n",
        "from sklearn.cluster import KMeans\n",
        "Sum_of_squared_distances = []\n",
        "K = range(1,10)\n",
        "for k in K:\n",
        "   km = KMeans(n_clusters=k, n_init=10, init='k-means++', max_iter=1000,algorithm='elkan')\n",
        "   km = km.fit(X)\n",
        "   Sum_of_squared_distances.append(km.inertia_)\n",
        "plt.plot(K, Sum_of_squared_distances, 'bx-')\n",
        "plt.xlabel('k')\n",
        "plt.ylabel('Sum_of_squared_distances')\n",
        "plt.title('Elbow Method For Optimal k')\n",
        "plt.show()"
      ],
      "metadata": {
        "colab": {
          "base_uri": "https://localhost:8080/",
          "height": 277
        },
        "id": "fs3he36jIwd8",
        "outputId": "8fdf1f79-beea-41b7-ed45-fc99136ecb19"
      },
      "execution_count": null,
      "outputs": [
        {
          "output_type": "stream",
          "name": "stderr",
          "text": [
            "/usr/local/lib/python3.7/dist-packages/sklearn/cluster/_kmeans.py:968: RuntimeWarning: algorithm='elkan' doesn't make sense for a single cluster. Using 'full' instead.\n",
            "  RuntimeWarning,\n"
          ]
        },
        {
          "output_type": "display_data",
          "data": {
            "text/plain": [
              "<Figure size 360x216 with 1 Axes>"
            ],
            "image/png": "[encoded data removed]"
          },
          "metadata": {
            "needs_background": "light"
          }
        }
      ]
    },
    {
      "cell_type": "code",
      "source": [
        "from sklearn.cluster import KMeans\n",
        "from sklearn import metrics\n",
        "\n",
        "\n",
        "#‘k-means++’ : selects initial cluster centers for k-mean clustering in a smart way to speed up convergence.\n",
        "#Maximum number of iterations of the k-means algorithm for a single run.\n",
        "\n",
        "km3 = KMeans(n_clusters=5, init='k-means++', max_iter=1000,random_state=5)\n",
        "km3.fit(X)\n",
        "label=km3.fit(X)"
      ],
      "metadata": {
        "id": "M8CtAJzuBkxy"
      },
      "execution_count": null,
      "outputs": []
    },
    {
      "cell_type": "code",
      "source": [
        "Sum_of_squared_distances = []\n",
        "K = range(1,10)\n",
        "for k in K:\n",
        "   km = MiniBatchKMeans(n_clusters=k, n_init=100, max_iter=1000,random_state=0,\n",
        "                         batch_size=1024)\n",
        "   km = km.fit(X)\n",
        "   Sum_of_squared_distances.append(km.inertia_)\n",
        "plt.plot(K, Sum_of_squared_distances, 'bx-')\n",
        "plt.xlabel('k')\n",
        "plt.ylabel('Sum_of_squared_distances')\n",
        "#plt.title('Elbow Method For Optimal k')\n",
        "plt.show()"
      ],
      "metadata": {
        "colab": {
          "base_uri": "https://localhost:8080/",
          "height": 225
        },
        "id": "4AiuRJtVcbYT",
        "outputId": "6074dc1d-7547-42bc-ad90-340b9a40d401"
      },
      "execution_count": null,
      "outputs": [
        {
          "output_type": "display_data",
          "data": {
            "text/plain": [
              "<Figure size 360x216 with 1 Axes>"
            ],
            "image/png": "[encoded data removed]"
          },
          "metadata": {
            "needs_background": "light"
          }
        }
      ]
    },
    {
      "cell_type": "code",
      "source": [
        "# mini-batch k-means clustering\n",
        "from numpy import unique\n",
        "from numpy import where\n",
        "from sklearn.datasets import make_classification\n",
        "from sklearn.cluster import MiniBatchKMeans\n",
        "from matplotlib import pyplot\n",
        "# define dataset\n",
        "#X, _ = make_classification(n_samples=1000, n_features=2, n_informative=2, n_redundant=0, n_clusters_per_class=1, random_state=4)\n",
        "# define the model\n",
        "model = MiniBatchKMeans(n_clusters=4)\n",
        "model.fit(X1)\n",
        "# assign a cluster to each example\n",
        "yhat = model.predict(X1)\n",
        "# retrieve unique clusters\n",
        "clusters = unique(yhat)\n",
        "# create scatter plot for samples from each cluster\n",
        "for cluster in clusters:\n",
        "\t# get row indexes for samples with this cluster\n",
        "\trow_ix = where(yhat == cluster)\n",
        "\t# create scatter of these samples\n",
        "\tpyplot.scatter(X1[row_ix, ], X1[row_ix, ])\n",
        "# show the plot\n",
        "pyplot.show()"
      ],
      "metadata": {
        "colab": {
          "base_uri": "https://localhost:8080/",
          "height": 211
        },
        "id": "xtZtIbrBaeSr",
        "outputId": "a6cbee40-45ad-49d3-d2fd-3630e671c11b"
      },
      "execution_count": null,
      "outputs": [
        {
          "output_type": "display_data",
          "data": {
            "text/plain": [
              "<Figure size 360x216 with 1 Axes>"
            ],
            "image/png": "[encoded data removed]"
          },
          "metadata": {
            "needs_background": "light"
          }
        }
      ]
    },
    {
      "cell_type": "code",
      "source": [
        "print(\"Coefficient for 5 clusters: %0.5f\"\n",
        "      % metrics.silhouette_score(X, km3.labels_))"
      ],
      "metadata": {
        "colab": {
          "base_uri": "https://localhost:8080/"
        },
        "id": "0BW5tEVyBk6H",
        "outputId": "256fc374-acf7-4772-fcc3-db04d5dc89bb"
      },
      "execution_count": null,
      "outputs": [
        {
          "output_type": "stream",
          "name": "stdout",
          "text": [
            "Coefficient for 5 clusters: 0.00831\n"
          ]
        }
      ]
    },
    {
      "cell_type": "code",
      "source": [
        "####################################### How many docs in each cluster\n",
        "import numpy as np\n",
        "labels, counts = np.unique(km3.labels_[km3.labels_>=0], return_counts=True)\n",
        "print (labels)\n",
        "print (counts)"
      ],
      "metadata": {
        "colab": {
          "base_uri": "https://localhost:8080/"
        },
        "id": "-tdpvTAwBzja",
        "outputId": "87605903-73cb-4974-ca19-09faed070e11"
      },
      "execution_count": null,
      "outputs": [
        {
          "output_type": "stream",
          "name": "stdout",
          "text": [
            "[0 1 2 3 4]\n",
            "[ 96 318 347 358 750]\n"
          ]
        }
      ]
    },
    {
      "cell_type": "code",
      "source": [
        "# The meaning of each cluster\n",
        "def print_terms(cm, num):\n",
        "    original_space_centroids = cm.cluster_centers_\n",
        "    order_centroids = original_space_centroids.argsort()[:, ::-1]\n",
        "    terms = vectorizer.get_feature_names()\n",
        "    for i in range(num):\n",
        "        print(\"Cluster %d:\" % i, end='')\n",
        "        for ind in order_centroids[i, :10]:\n",
        "            print(' %s' % terms[ind], end='')\n",
        "        print()"
      ],
      "metadata": {
        "id": "4JnP4DNeB6Cj"
      },
      "execution_count": null,
      "outputs": []
    },
    {
      "cell_type": "code",
      "source": [
        "print_terms(km3, 5)"
      ],
      "metadata": {
        "colab": {
          "base_uri": "https://localhost:8080/"
        },
        "id": "VAXl5qL5B6uQ",
        "outputId": "27d38bd2-1f4a-42c7-8b4a-05d94d75995d"
      },
      "execution_count": null,
      "outputs": [
        {
          "output_type": "stream",
          "name": "stdout",
          "text": [
            "Cluster 0: que la en se por el tan son como para\n",
            "Cluster 1: game song play like wa music playing love time look\n",
            "Cluster 2: thank thanks learning learn wa help helpful great work like\n",
            "Cluster 3: love watch watching like loved wa look make movie thank\n",
            "Cluster 4: wa like people time ha make know great guy thing\n"
          ]
        },
        {
          "output_type": "stream",
          "name": "stderr",
          "text": [
            "/usr/local/lib/python3.7/dist-packages/sklearn/utils/deprecation.py:87: FutureWarning: Function get_feature_names is deprecated; get_feature_names is deprecated in 1.0 and will be removed in 1.2. Please use get_feature_names_out instead.\n",
            "  warnings.warn(msg, category=FutureWarning)\n"
          ]
        }
      ]
    },
    {
      "cell_type": "code",
      "source": [
        "import pandas as pd\n",
        "import matplotlib.pyplot as plt\n",
        "from wordcloud import WordCloud"
      ],
      "metadata": {
        "id": "m7J0JdpgMllp"
      },
      "execution_count": null,
      "outputs": []
    },
    {
      "cell_type": "code",
      "source": [
        "# import library necessary\n",
        "\n",
        "import pandas as pd\n",
        "import numpy as np\n",
        "import matplotlib.pyplot as plt\n",
        "import seaborn\n",
        "from sklearn.cluster import KMeans\n",
        "from sklearn.feature_extraction.text import TfidfVectorizer, CountVectorizer\n",
        "from nltk.corpus import stopwords\n",
        "from nltk.stem import WordNetLemmatizer\n",
        "from sklearn.decomposition import PCA\n",
        "from sklearn.decomposition import TruncatedSVD\n",
        "import nltk\n",
        "from wordcloud import WordCloud\n",
        "from sklearn.linear_model import LogisticRegression\n",
        "from sklearn.model_selection import train_test_split\n",
        "from sklearn.dummy import DummyClassifier\n",
        "from sklearn.decomposition import LatentDirichletAllocation"
      ],
      "metadata": {
        "id": "XwvE3vBZjfZp"
      },
      "execution_count": null,
      "outputs": []
    },
    {
      "cell_type": "code",
      "source": [
        "# components for features reduction\n",
        "n_components = 5\n",
        "# number of clusters we want\n",
        "n_clusters = 5\n",
        "# reduce dimensions\n",
        "svd = TruncatedSVD(n_components=n_components, random_state = 0)\n",
        "X_2d = svd.fit_transform(X)\n",
        "\n",
        "# fit k-mean clustering\n",
        "#kmeans = KMeans(n_clusters=n_clusters, random_state = 0)\n",
        "\n",
        "# predict our clusters for each song\n",
        "X_clustered = km3.fit_predict(X)\n",
        "\n",
        "# display by groups\n",
        "df_plot = pd.DataFrame(list(X), list(X_clustered))\n",
        "df_plot = df_plot.reset_index()\n",
        "df_plot.rename(columns = {'index': 'Cluster'}, inplace = True)\n",
        "df_plot['Cluster'] = df_plot['Cluster'].astype(int)\n",
        "\n",
        "print(df_plot.head())\n",
        "\n",
        "print(df_plot.groupby('Cluster').agg({'Cluster': 'count'}))"
      ],
      "metadata": {
        "colab": {
          "base_uri": "https://localhost:8080/"
        },
        "id": "lmwbdeqJjM3L",
        "outputId": "7da1a59d-2ea3-44a3-e9af-b47f926de6b7"
      },
      "execution_count": null,
      "outputs": [
        {
          "output_type": "stream",
          "name": "stdout",
          "text": [
            "   Cluster                                                  0\n",
            "0        3    (0, 2414)\\t0.1726282338691688\\n  (0, 1964)\\t...\n",
            "1        4    (0, 770)\\t0.3020613217766027\\n  (0, 1568)\\t0...\n",
            "2        4    (0, 874)\\t0.31046756339726855\\n  (0, 972)\\t0...\n",
            "3        4    (0, 2231)\\t0.19296363248103224\\n  (0, 1467)\\...\n",
            "4        2    (0, 754)\\t0.2470325633906811\\n  (0, 1996)\\t0...\n",
            "         Cluster\n",
            "Cluster         \n",
            "0             96\n",
            "1            318\n",
            "2            347\n",
            "3            358\n",
            "4            750\n"
          ]
        }
      ]
    },
    {
      "cell_type": "code",
      "source": [
        "# Logistic Regression approach\n",
        "\n",
        "ck['Cluster'] = df_plot['Cluster']\n",
        "\n",
        "# function for finding most significant words for each cluster\n",
        "def generate_text(cluster):\n",
        "    \n",
        "    df_s = ck['Comment_keyword'].values.astype('U')\n",
        "    y = ck['Cluster'].map(lambda x: 1 if x == cluster else 0)\n",
        "    count = len(df_s)\n",
        "    \n",
        "    tfidf = TfidfVectorizer(stop_words = 'english')\n",
        "    X = tfidf.fit_transform(df_s)\n",
        "    X_train, X_test, y_train, y_test = train_test_split(X, y, random_state=0)\n",
        "    clf = LogisticRegression(random_state = 0).fit(X_train, y_train)\n",
        "    clf_d = DummyClassifier().fit(X_train, y_train)\n",
        "    acc = clf.score(X_test, y_test)\n",
        "    acc_d = clf_d.score(X_test, y_test)\n",
        "    coef = clf.coef_.tolist()[0]\n",
        "    w = tfidf.get_feature_names()\n",
        "    coeff_df = pd.DataFrame({'words' : w, 'score' : coef})\n",
        "    coeff_df = coeff_df.sort_values(['score', 'words'], ascending=[0, 1])\n",
        "    coeff_df = coeff_df[:30]\n",
        "    d = coeff_df.set_index('words')['score'].to_dict()\n",
        "    return d, acc, acc_d"
      ],
      "metadata": {
        "id": "PZmXH47Qk8JQ"
      },
      "execution_count": null,
      "outputs": []
    },
    {
      "cell_type": "code",
      "source": [
        "# visualized it by word clouds\n",
        "fig, ax = plt.subplots(n_clusters, sharex=True, figsize=(15,10*n_clusters))\n",
        "\n",
        "for i in range(0, n_clusters):\n",
        "    d, acc, acc_d = generate_text(i)\n",
        "    wordcloud = WordCloud(max_font_size=40, collocations=False, colormap = 'Reds', background_color = 'white')\n",
        "    ax[i].set_title('Cluster {} \\nLR accuracy: {} \\nDummy classifier accuracy: {}'.format(i, acc, acc_d), fontsize = 20)\n",
        "    ax[i].axis(\"off\")"
      ],
      "metadata": {
        "colab": {
          "base_uri": "https://localhost:8080/",
          "height": 1000
        },
        "id": "qdISLVo-k1an",
        "outputId": "566a02bf-5ef1-40df-efc6-f1fe68ddf1e2"
      },
      "execution_count": null,
      "outputs": [
        {
          "output_type": "stream",
          "name": "stderr",
          "text": [
            "/usr/local/lib/python3.7/dist-packages/sklearn/utils/deprecation.py:87: FutureWarning: Function get_feature_names is deprecated; get_feature_names is deprecated in 1.0 and will be removed in 1.2. Please use get_feature_names_out instead.\n",
            "  warnings.warn(msg, category=FutureWarning)\n",
            "/usr/local/lib/python3.7/dist-packages/sklearn/utils/deprecation.py:87: FutureWarning: Function get_feature_names is deprecated; get_feature_names is deprecated in 1.0 and will be removed in 1.2. Please use get_feature_names_out instead.\n",
            "  warnings.warn(msg, category=FutureWarning)\n",
            "/usr/local/lib/python3.7/dist-packages/sklearn/utils/deprecation.py:87: FutureWarning: Function get_feature_names is deprecated; get_feature_names is deprecated in 1.0 and will be removed in 1.2. Please use get_feature_names_out instead.\n",
            "  warnings.warn(msg, category=FutureWarning)\n",
            "/usr/local/lib/python3.7/dist-packages/sklearn/utils/deprecation.py:87: FutureWarning: Function get_feature_names is deprecated; get_feature_names is deprecated in 1.0 and will be removed in 1.2. Please use get_feature_names_out instead.\n",
            "  warnings.warn(msg, category=FutureWarning)\n",
            "/usr/local/lib/python3.7/dist-packages/sklearn/utils/deprecation.py:87: FutureWarning: Function get_feature_names is deprecated; get_feature_names is deprecated in 1.0 and will be removed in 1.2. Please use get_feature_names_out instead.\n",
            "  warnings.warn(msg, category=FutureWarning)\n"
          ]
        },
        {
          "output_type": "display_data",
          "data": {
            "text/plain": [
              "<Figure size 1080x3600 with 5 Axes>"
            ],
            "image/png": "[encoded data removed]"
          },
          "metadata": {
            "needs_background": "light"
          }
        }
      ]
    }
  ]
}